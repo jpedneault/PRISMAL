{
 "cells": [
  {
   "cell_type": "markdown",
   "metadata": {},
   "source": [
    "# Getting started with PRISMAL"
   ]
  },
  {
   "cell_type": "markdown",
   "metadata": {},
   "source": [
    "The PRospective Impacts Scenario for ALuminium (PRISMAL) framework underpins the development and analysis of five internally consistent scenarios for the prospective footprint assessment of primary aluminium production. \n",
    "\n",
    "This open-source Python software integrates life cycle assessment inventories for the entire aluminium production chain and future demand projections3 with the SSP narratives (O’Neill et al., 2017)\n",
    "\n",
    "PRISMAL works with Python and will therefore require you to download Python on your computer. You can either dowload it on https://www.python.org/ or use https://www.anaconda.com/ which makes life easier.\n",
    "\n",
    "To run PRISMAL, you'll need the data, the class and a notebook to run the class on the data and manipulate and plot results "
   ]
  },
  {
   "cell_type": "markdown",
   "metadata": {},
   "source": [
    "## Get Data"
   ]
  },
  {
   "cell_type": "markdown",
   "metadata": {},
   "source": [
    "PRISMAL data are grouped into an excel file (PRISMAL_data.xlsx) available in the src folder. To run PRISMAL, you'll have to download data first "
   ]
  },
  {
   "cell_type": "markdown",
   "metadata": {},
   "source": [
    "## Get PRISMAL class"
   ]
  },
  {
   "cell_type": "markdown",
   "metadata": {},
   "source": [
    "To get the PRISMAL_class, you need ot download from the src floder: PRISMAL.py\n",
    "Make sure you to remember the path to find the class because you will need it to run it."
   ]
  },
  {
   "cell_type": "markdown",
   "metadata": {},
   "source": [
    "## Run PRISMAL"
   ]
  },
  {
   "cell_type": "markdown",
   "metadata": {},
   "source": [
    "To run PRISMAL, download the notebook (PRISMAL.ipynb) in the doc folder.\n",
    "Before running it, change the path of the 8th line for the path to the class:\n",
    "sys.path.append(r'C:path_to_PRISMAL_class')\n",
    "\n",
    "Make sure that the notebook and the excel data file has to be in the same folder so the program can read the file and calculate results\n",
    "\n",
    "Now, you can run the notebook.\n",
    "The first cells create our different scenarios by reading the data excel file and the solve it.\n",
    "We then create concatenate results of all scenarios in 3 datagrames:\n",
    "- prismal_all\n",
    "- prismal_imp_all\n",
    "- prismal_imp_all\n",
    "\n",
    "The graph section do sane operations on those dataframe and plot results"
   ]
  },
  {
   "cell_type": "markdown",
   "metadata": {},
   "source": [
    "## Note"
   ]
  },
  {
   "cell_type": "code",
   "execution_count": null,
   "metadata": {},
   "outputs": [],
   "source": []
  }
 ],
 "metadata": {
  "kernelspec": {
   "display_name": "Python 3",
   "language": "python",
   "name": "python3"
  },
  "language_info": {
   "codemirror_mode": {
    "name": "ipython",
    "version": 3
   },
   "file_extension": ".py",
   "mimetype": "text/x-python",
   "name": "python",
   "nbconvert_exporter": "python",
   "pygments_lexer": "ipython3",
   "version": "3.6.5"
  }
 },
 "nbformat": 4,
 "nbformat_minor": 2
}
